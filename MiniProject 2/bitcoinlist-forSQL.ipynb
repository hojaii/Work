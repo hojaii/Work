{
 "cells": [
  {
   "cell_type": "code",
   "execution_count": 1,
   "id": "3c412b2f",
   "metadata": {},
   "outputs": [
    {
     "name": "stdout",
     "output_type": "stream",
     "text": [
      "Requirement already satisfied: pyupbit in c:\\users\\bit\\anaconda3\\envs\\data-env\\lib\\site-packages (0.2.26)\n",
      "Requirement already satisfied: websockets==9.1 in c:\\users\\bit\\anaconda3\\envs\\data-env\\lib\\site-packages (from pyupbit) (9.1)\n",
      "Requirement already satisfied: requests in c:\\users\\bit\\anaconda3\\envs\\data-env\\lib\\site-packages (from pyupbit) (2.27.1)\n",
      "Requirement already satisfied: pandas in c:\\users\\bit\\anaconda3\\envs\\data-env\\lib\\site-packages (from pyupbit) (1.3.5)\n",
      "Requirement already satisfied: pyjwt>=2.0.0 in c:\\users\\bit\\anaconda3\\envs\\data-env\\lib\\site-packages (from pyupbit) (2.3.0)\n",
      "Requirement already satisfied: numpy>=1.17.3 in c:\\users\\bit\\anaconda3\\envs\\data-env\\lib\\site-packages (from pandas->pyupbit) (1.21.5)\n",
      "Requirement already satisfied: python-dateutil>=2.7.3 in c:\\users\\bit\\anaconda3\\envs\\data-env\\lib\\site-packages (from pandas->pyupbit) (2.8.2)\n",
      "Requirement already satisfied: pytz>=2017.3 in c:\\users\\bit\\anaconda3\\envs\\data-env\\lib\\site-packages (from pandas->pyupbit) (2021.3)\n",
      "Requirement already satisfied: six>=1.5 in c:\\users\\bit\\anaconda3\\envs\\data-env\\lib\\site-packages (from python-dateutil>=2.7.3->pandas->pyupbit) (1.16.0)\n",
      "Requirement already satisfied: urllib3<1.27,>=1.21.1 in c:\\users\\bit\\anaconda3\\envs\\data-env\\lib\\site-packages (from requests->pyupbit) (1.26.8)\n",
      "Requirement already satisfied: certifi>=2017.4.17 in c:\\users\\bit\\anaconda3\\envs\\data-env\\lib\\site-packages (from requests->pyupbit) (2021.10.8)\n",
      "Requirement already satisfied: idna<4,>=2.5 in c:\\users\\bit\\anaconda3\\envs\\data-env\\lib\\site-packages (from requests->pyupbit) (3.3)\n",
      "Requirement already satisfied: charset-normalizer~=2.0.0 in c:\\users\\bit\\anaconda3\\envs\\data-env\\lib\\site-packages (from requests->pyupbit) (2.0.11)\n",
      "Note: you may need to restart the kernel to use updated packages.\n"
     ]
    }
   ],
   "source": [
    "pip install pyupbit"
   ]
  },
  {
   "cell_type": "code",
   "execution_count": 2,
   "id": "d13192be",
   "metadata": {},
   "outputs": [],
   "source": [
    "import pyupbit as ub"
   ]
  },
  {
   "cell_type": "code",
   "execution_count": 3,
   "id": "044c241e",
   "metadata": {},
   "outputs": [
    {
     "name": "stdout",
     "output_type": "stream",
     "text": [
      "['KRW-BTC', 'KRW-ETH', 'KRW-NEO', 'KRW-MTL', 'KRW-LTC', 'KRW-XRP', 'KRW-ETC', 'KRW-OMG', 'KRW-SNT', 'KRW-WAVES', 'KRW-XEM', 'KRW-QTUM', 'KRW-LSK', 'KRW-STEEM', 'KRW-XLM', 'KRW-ARDR', 'KRW-ARK', 'KRW-STORJ', 'KRW-GRS', 'KRW-REP', 'KRW-ADA', 'KRW-SBD', 'KRW-POWR', 'KRW-BTG', 'KRW-ICX', 'KRW-EOS', 'KRW-TRX', 'KRW-SC', 'KRW-ONT', 'KRW-ZIL', 'KRW-POLY', 'KRW-ZRX', 'KRW-LOOM', 'KRW-BCH', 'KRW-BAT', 'KRW-IOST', 'KRW-RFR', 'KRW-CVC', 'KRW-IQ', 'KRW-IOTA', 'KRW-MFT', 'KRW-ONG', 'KRW-GAS', 'KRW-UPP', 'KRW-ELF', 'KRW-KNC', 'KRW-BSV', 'KRW-THETA', 'KRW-QKC', 'KRW-BTT', 'KRW-MOC', 'KRW-ENJ', 'KRW-TFUEL', 'KRW-MANA', 'KRW-ANKR', 'KRW-AERGO', 'KRW-ATOM', 'KRW-TT', 'KRW-CRE', 'KRW-MBL', 'KRW-WAXP', 'KRW-HBAR', 'KRW-MED', 'KRW-MLK', 'KRW-STPT', 'KRW-ORBS', 'KRW-VET', 'KRW-CHZ', 'KRW-STMX', 'KRW-DKA', 'KRW-HIVE', 'KRW-KAVA', 'KRW-AHT', 'KRW-LINK', 'KRW-XTZ', 'KRW-BORA', 'KRW-JST', 'KRW-CRO', 'KRW-TON', 'KRW-SXP', 'KRW-HUNT', 'KRW-PLA', 'KRW-DOT', 'KRW-SRM', 'KRW-MVL', 'KRW-STRAX', 'KRW-AQT', 'KRW-GLM', 'KRW-SSX', 'KRW-META', 'KRW-FCT2', 'KRW-CBK', 'KRW-SAND', 'KRW-HUM', 'KRW-DOGE', 'KRW-STRK', 'KRW-PUNDIX', 'KRW-FLOW', 'KRW-DAWN', 'KRW-AXS', 'KRW-STX', 'KRW-XEC', 'KRW-SOL', 'KRW-MATIC', 'KRW-NU', 'KRW-AAVE', 'KRW-1INCH', 'KRW-ALGO', 'KRW-NEAR', 'KRW-WEMIX', 'KRW-AVAX', 'KRW-T', 'KRW-CELO']\n"
     ]
    }
   ],
   "source": [
    "KRW_tickers = ub.get_tickers(fiat=\"KRW\")\n",
    "print(KRW_tickers) # 원화로 거래하는 코인들 리스트"
   ]
  },
  {
   "cell_type": "code",
   "execution_count": 4,
   "id": "22bce0e5",
   "metadata": {},
   "outputs": [
    {
     "name": "stdout",
     "output_type": "stream",
     "text": [
      "[{'market': 'KRW-BTC', 'korean_name': '비트코인', 'english_name': 'Bitcoin'}, {'market': 'KRW-ETH', 'korean_name': '이더리움', 'english_name': 'Ethereum'}, {'market': 'KRW-NEO', 'korean_name': '네오', 'english_name': 'NEO'}, {'market': 'KRW-MTL', 'korean_name': '메탈', 'english_name': 'Metal'}, {'market': 'KRW-LTC', 'korean_name': '라이트코인', 'english_name': 'Litecoin'}, {'market': 'KRW-XRP', 'korean_name': '리플', 'english_name': 'Ripple'}, {'market': 'KRW-ETC', 'korean_name': '이더리움클래식', 'english_name': 'Ethereum Classic'}, {'market': 'KRW-OMG', 'korean_name': '오미세고', 'english_name': 'OmiseGo'}, {'market': 'KRW-SNT', 'korean_name': '스테이터스네트워크토큰', 'english_name': 'Status Network Token'}, {'market': 'KRW-WAVES', 'korean_name': '웨이브', 'english_name': 'Waves'}, {'market': 'KRW-XEM', 'korean_name': '넴', 'english_name': 'NEM'}, {'market': 'KRW-QTUM', 'korean_name': '퀀텀', 'english_name': 'Qtum'}, {'market': 'KRW-LSK', 'korean_name': '리스크', 'english_name': 'Lisk'}, {'market': 'KRW-STEEM', 'korean_name': '스팀', 'english_name': 'Steem'}, {'market': 'KRW-XLM', 'korean_name': '스텔라루멘', 'english_name': 'Lumen'}, {'market': 'KRW-ARDR', 'korean_name': '아더', 'english_name': 'Ardor'}, {'market': 'KRW-ARK', 'korean_name': '아크', 'english_name': 'Ark'}, {'market': 'KRW-STORJ', 'korean_name': '스토리지', 'english_name': 'Storj'}, {'market': 'KRW-GRS', 'korean_name': '그로스톨코인', 'english_name': 'Groestlcoin'}, {'market': 'KRW-REP', 'korean_name': '어거', 'english_name': 'Augur'}, {'market': 'KRW-ADA', 'korean_name': '에이다', 'english_name': 'Ada'}, {'market': 'KRW-SBD', 'korean_name': '스팀달러', 'english_name': 'SteemDollars'}, {'market': 'KRW-POWR', 'korean_name': '파워렛저', 'english_name': 'Power ledger'}, {'market': 'KRW-BTG', 'korean_name': '비트코인골드', 'english_name': 'Bitcoin Gold'}, {'market': 'KRW-ICX', 'korean_name': '아이콘', 'english_name': 'Icon'}, {'market': 'KRW-EOS', 'korean_name': '이오스', 'english_name': 'EOS'}, {'market': 'KRW-TRX', 'korean_name': '트론', 'english_name': 'TRON'}, {'market': 'KRW-SC', 'korean_name': '시아코인', 'english_name': 'Siacoin'}, {'market': 'KRW-ONT', 'korean_name': '온톨로지', 'english_name': 'Ontology'}, {'market': 'KRW-ZIL', 'korean_name': '질리카', 'english_name': 'Zilliqa'}, {'market': 'KRW-POLY', 'korean_name': '폴리매쓰', 'english_name': 'Polymath'}, {'market': 'KRW-ZRX', 'korean_name': '제로엑스', 'english_name': '0x Protocol'}, {'market': 'KRW-LOOM', 'korean_name': '룸네트워크', 'english_name': 'Loom Network'}, {'market': 'KRW-BCH', 'korean_name': '비트코인캐시', 'english_name': 'Bitcoin Cash'}, {'market': 'KRW-BAT', 'korean_name': '베이직어텐션토큰', 'english_name': 'Basic Attention Token'}, {'market': 'KRW-IOST', 'korean_name': '아이오에스티', 'english_name': 'IOST'}, {'market': 'KRW-RFR', 'korean_name': '리퍼리움', 'english_name': 'Refereum'}, {'market': 'KRW-CVC', 'korean_name': '시빅', 'english_name': 'Civic'}, {'market': 'KRW-IQ', 'korean_name': '에브리피디아', 'english_name': 'Everipedia'}, {'market': 'KRW-IOTA', 'korean_name': '아이오타', 'english_name': 'IOTA'}, {'market': 'KRW-MFT', 'korean_name': '메인프레임', 'english_name': 'Mainframe'}, {'market': 'KRW-ONG', 'korean_name': '온톨로지가스', 'english_name': 'ONG'}, {'market': 'KRW-GAS', 'korean_name': '가스', 'english_name': 'GAS'}, {'market': 'KRW-UPP', 'korean_name': '센티넬프로토콜', 'english_name': 'Sentinel Protocol'}, {'market': 'KRW-ELF', 'korean_name': '엘프', 'english_name': 'aelf'}, {'market': 'KRW-KNC', 'korean_name': '카이버네트워크', 'english_name': 'Kyber Network'}, {'market': 'KRW-BSV', 'korean_name': '비트코인에스브이', 'english_name': 'Bitcoin SV'}, {'market': 'KRW-THETA', 'korean_name': '쎄타토큰', 'english_name': 'Theta Token'}, {'market': 'KRW-QKC', 'korean_name': '쿼크체인', 'english_name': 'QuarkChain'}, {'market': 'KRW-BTT', 'korean_name': '비트토렌트', 'english_name': 'BitTorrent'}, {'market': 'KRW-MOC', 'korean_name': '모스코인', 'english_name': 'Moss Coin'}, {'market': 'KRW-ENJ', 'korean_name': '엔진코인', 'english_name': 'Enjin'}, {'market': 'KRW-TFUEL', 'korean_name': '쎄타퓨엘', 'english_name': 'Theta Fuel'}, {'market': 'KRW-MANA', 'korean_name': '디센트럴랜드', 'english_name': 'Decentraland'}, {'market': 'KRW-ANKR', 'korean_name': '앵커', 'english_name': 'Ankr'}, {'market': 'KRW-AERGO', 'korean_name': '아르고', 'english_name': 'Aergo'}, {'market': 'KRW-ATOM', 'korean_name': '코스모스', 'english_name': 'Cosmos'}, {'market': 'KRW-TT', 'korean_name': '썬더코어', 'english_name': 'ThunderCore'}, {'market': 'KRW-CRE', 'korean_name': '캐리프로토콜', 'english_name': 'Carry Protocol'}, {'market': 'KRW-MBL', 'korean_name': '무비블록', 'english_name': 'MovieBloc'}, {'market': 'KRW-WAXP', 'korean_name': '왁스', 'english_name': 'WAX'}, {'market': 'KRW-HBAR', 'korean_name': '헤데라', 'english_name': 'Hedera'}, {'market': 'KRW-MED', 'korean_name': '메디블록', 'english_name': 'MediBloc'}, {'market': 'KRW-MLK', 'korean_name': '밀크', 'english_name': 'MiL.k'}, {'market': 'KRW-STPT', 'korean_name': '에스티피', 'english_name': 'Standard Tokenization Protocol'}, {'market': 'KRW-ORBS', 'korean_name': '오브스', 'english_name': 'Orbs'}, {'market': 'KRW-VET', 'korean_name': '비체인', 'english_name': 'VeChain'}, {'market': 'KRW-CHZ', 'korean_name': '칠리즈', 'english_name': 'Chiliz'}, {'market': 'KRW-STMX', 'korean_name': '스톰엑스', 'english_name': 'StormX'}, {'market': 'KRW-DKA', 'korean_name': '디카르고', 'english_name': 'dKargo'}, {'market': 'KRW-HIVE', 'korean_name': '하이브', 'english_name': 'Hive'}, {'market': 'KRW-KAVA', 'korean_name': '카바', 'english_name': 'Kava'}, {'market': 'KRW-AHT', 'korean_name': '아하토큰', 'english_name': 'AhaToken'}, {'market': 'KRW-LINK', 'korean_name': '체인링크', 'english_name': 'Chainlink'}, {'market': 'KRW-XTZ', 'korean_name': '테조스', 'english_name': 'Tezos'}, {'market': 'KRW-BORA', 'korean_name': '보라', 'english_name': 'BORA'}, {'market': 'KRW-JST', 'korean_name': '저스트', 'english_name': 'JUST'}, {'market': 'KRW-CRO', 'korean_name': '크로노스', 'english_name': 'Cronos'}, {'market': 'KRW-TON', 'korean_name': '톤', 'english_name': 'TON'}, {'market': 'KRW-SXP', 'korean_name': '스와이프', 'english_name': 'Swipe'}, {'market': 'KRW-HUNT', 'korean_name': '헌트', 'english_name': 'HUNT'}, {'market': 'KRW-PLA', 'korean_name': '플레이댑', 'english_name': 'PlayDapp'}, {'market': 'KRW-DOT', 'korean_name': '폴카닷', 'english_name': 'Polkadot'}, {'market': 'KRW-SRM', 'korean_name': '세럼', 'english_name': 'Serum'}, {'market': 'KRW-MVL', 'korean_name': '엠블', 'english_name': 'MVL'}, {'market': 'KRW-STRAX', 'korean_name': '스트라티스', 'english_name': 'Stratis'}, {'market': 'KRW-AQT', 'korean_name': '알파쿼크', 'english_name': 'Alpha Quark Token'}, {'market': 'KRW-GLM', 'korean_name': '골렘', 'english_name': 'Golem'}, {'market': 'KRW-SSX', 'korean_name': '썸씽', 'english_name': 'SOMESING'}, {'market': 'KRW-META', 'korean_name': '메타디움', 'english_name': 'Metadium'}, {'market': 'KRW-FCT2', 'korean_name': '피르마체인', 'english_name': 'FirmaChain'}, {'market': 'KRW-CBK', 'korean_name': '코박토큰', 'english_name': 'Cobak Token'}, {'market': 'KRW-SAND', 'korean_name': '샌드박스', 'english_name': 'The Sandbox'}, {'market': 'KRW-HUM', 'korean_name': '휴먼스케이프', 'english_name': 'Humanscape'}, {'market': 'KRW-DOGE', 'korean_name': '도지코인', 'english_name': 'Dogecoin'}, {'market': 'KRW-STRK', 'korean_name': '스트라이크', 'english_name': 'Strike'}, {'market': 'KRW-PUNDIX', 'korean_name': '펀디엑스', 'english_name': 'Pundi X'}, {'market': 'KRW-FLOW', 'korean_name': '플로우', 'english_name': 'Flow'}, {'market': 'KRW-DAWN', 'korean_name': '던프로토콜', 'english_name': 'Dawn Protocol'}, {'market': 'KRW-AXS', 'korean_name': '엑시인피니티', 'english_name': 'Axie Infinity'}, {'market': 'KRW-STX', 'korean_name': '스택스', 'english_name': 'Stacks'}, {'market': 'KRW-XEC', 'korean_name': '이캐시', 'english_name': 'eCash'}, {'market': 'KRW-SOL', 'korean_name': '솔라나', 'english_name': 'Solana'}, {'market': 'KRW-MATIC', 'korean_name': '폴리곤', 'english_name': 'Polygon'}, {'market': 'KRW-NU', 'korean_name': '누사이퍼', 'english_name': 'Nucypher'}, {'market': 'KRW-AAVE', 'korean_name': '에이브', 'english_name': 'Aave'}, {'market': 'KRW-1INCH', 'korean_name': '1인치네트워크', 'english_name': '1inch Network'}, {'market': 'KRW-ALGO', 'korean_name': '알고랜드', 'english_name': 'Algorand'}, {'market': 'KRW-NEAR', 'korean_name': '니어프로토콜', 'english_name': 'NEAR Protocol'}, {'market': 'KRW-WEMIX', 'korean_name': '위믹스', 'english_name': 'Wemix'}, {'market': 'KRW-AVAX', 'korean_name': '아발란체', 'english_name': 'Avalanche'}, {'market': 'KRW-T', 'korean_name': '쓰레스홀드', 'english_name': 'Threshold'}, {'market': 'KRW-CELO', 'korean_name': '셀로', 'english_name': 'Celo'}]\n"
     ]
    }
   ],
   "source": [
    "tickers = ub.get_tickers(fiat='KRW', verbose=True)\n",
    "print(tickers) # 코인들 리스트와 명칭 출력"
   ]
  },
  {
   "cell_type": "code",
   "execution_count": 5,
   "id": "a91649a0",
   "metadata": {},
   "outputs": [
    {
     "name": "stdout",
     "output_type": "stream",
     "text": [
      "{'KRW-BTC': 50261000.0, 'KRW-ETH': 3790000.0, 'KRW-NEO': 25100.0, 'KRW-MTL': 1955.0, 'KRW-LTC': 130200.0, 'KRW-XRP': 890.0, 'KRW-ETC': 47450.0, 'KRW-OMG': 5365.0, 'KRW-SNT': 75.4, 'KRW-WAVES': 29230.0, 'KRW-XEM': 120.0, 'KRW-QTUM': 7880.0, 'KRW-LSK': 2535.0, 'KRW-STEEM': 397.0, 'KRW-XLM': 239.0, 'KRW-ARDR': 255.0, 'KRW-ARK': 1205.0, 'KRW-STORJ': 1255.0, 'KRW-GRS': 780.0, 'KRW-REP': 16770.0, 'KRW-ADA': 1175.0, 'KRW-SBD': 5160.0, 'KRW-POWR': 611.0, 'KRW-BTG': 42650.0, 'KRW-ICX': 930.0, 'KRW-EOS': 2770.0, 'KRW-TRX': 73.8, 'KRW-SC': 12.3, 'KRW-ONT': 608.0, 'KRW-ZIL': 139.0, 'KRW-POLY': 477.0, 'KRW-ZRX': 867.0, 'KRW-LOOM': 101.0, 'KRW-BCH': 374800.0, 'KRW-BAT': 871.0, 'KRW-IOST': 34.5, 'KRW-RFR': 15.1, 'KRW-CVC': 334.0, 'KRW-IQ': 14.1, 'KRW-IOTA': 825.0, 'KRW-MFT': 10.0, 'KRW-ONG': 876.0, 'KRW-GAS': 5690.0, 'KRW-UPP': 161.0, 'KRW-ELF': 397.0, 'KRW-KNC': 5190.0, 'KRW-BSV': 102550.0, 'KRW-THETA': 3850.0, 'KRW-QKC': 25.7, 'KRW-BTT': 0.0023, 'KRW-MOC': 221.0, 'KRW-ENJ': 1940.0, 'KRW-TFUEL': 200.0, 'KRW-MANA': 2620.0, 'KRW-ANKR': 86.5, 'KRW-AERGO': 276.0, 'KRW-ATOM': 30470.0, 'KRW-TT': 12.2, 'KRW-CRE': 10.5, 'KRW-MBL': 11.5, 'KRW-WAXP': 338.0, 'KRW-HBAR': 249.0, 'KRW-MED': 51.9, 'KRW-MLK': 1010.0, 'KRW-STPT': 106.0, 'KRW-ORBS': 90.3, 'KRW-VET': 73.8, 'KRW-CHZ': 279.0, 'KRW-STMX': 22.0, 'KRW-DKA': 115.0, 'KRW-HIVE': 1080.0, 'KRW-KAVA': 5195.0, 'KRW-AHT': 13.7, 'KRW-LINK': 17540.0, 'KRW-XTZ': 3770.0, 'KRW-BORA': 1035.0, 'KRW-JST': 91.2, 'KRW-CRO': 512.0, 'KRW-TON': 4730.0, 'KRW-SXP': 1505.0, 'KRW-HUNT': 987.0, 'KRW-PLA': 1090.0, 'KRW-DOT': 22100.0, 'KRW-SRM': 2875.0, 'KRW-MVL': 12.0, 'KRW-STRAX': 1245.0, 'KRW-AQT': 3285.0, 'KRW-GLM': 511.0, 'KRW-SSX': 57.7, 'KRW-META': 97.7, 'KRW-FCT2': 161.0, 'KRW-CBK': 2690.0, 'KRW-SAND': 3420.0, 'KRW-HUM': 429.0, 'KRW-DOGE': 172.0, 'KRW-STRK': 48740.0, 'KRW-PUNDIX': 981.0, 'KRW-FLOW': 7055.0, 'KRW-DAWN': 2130.0, 'KRW-AXS': 57450.0, 'KRW-STX': 1445.0, 'KRW-XEC': 0.112, 'KRW-SOL': 127100.0, 'KRW-MATIC': 1705.0, 'KRW-NU': 482.0, 'KRW-AAVE': 201250.0, 'KRW-1INCH': 1855.0, 'KRW-ALGO': 910.0, 'KRW-NEAR': 20380.0, 'KRW-WEMIX': 4765.0, 'KRW-AVAX': 94540.0, 'KRW-T': 144.0, 'KRW-CELO': 3970.0}\n"
     ]
    }
   ],
   "source": [
    "print(ub.get_current_price(KRW_tickers)) # 원화로 거래하는 코인들의 현재가격"
   ]
  },
  {
   "cell_type": "code",
   "execution_count": null,
   "id": "3526400a",
   "metadata": {},
   "outputs": [],
   "source": [
    "# {\"market\": \"KRW-머시기\", \"korean_name\":\"비트코인머시기\", \"거래가격\":1234.0} 방식으로 가공해야함!"
   ]
  },
  {
   "cell_type": "code",
   "execution_count": 9,
   "id": "aadaaa5d",
   "metadata": {},
   "outputs": [],
   "source": [
    "a = tickers\n",
    "b = ub.get_current_price(KRW_tickers)"
   ]
  },
  {
   "cell_type": "code",
   "execution_count": 10,
   "id": "4e4e06bd",
   "metadata": {
    "collapsed": true
   },
   "outputs": [
    {
     "name": "stdout",
     "output_type": "stream",
     "text": [
      "[{'market': 'KRW-BTC', 'korean_name': '비트코인', 'english_name': 'Bitcoin'}, {'market': 'KRW-ETH', 'korean_name': '이더리움', 'english_name': 'Ethereum'}, {'market': 'KRW-NEO', 'korean_name': '네오', 'english_name': 'NEO'}, {'market': 'KRW-MTL', 'korean_name': '메탈', 'english_name': 'Metal'}, {'market': 'KRW-LTC', 'korean_name': '라이트코인', 'english_name': 'Litecoin'}, {'market': 'KRW-XRP', 'korean_name': '리플', 'english_name': 'Ripple'}, {'market': 'KRW-ETC', 'korean_name': '이더리움클래식', 'english_name': 'Ethereum Classic'}, {'market': 'KRW-OMG', 'korean_name': '오미세고', 'english_name': 'OmiseGo'}, {'market': 'KRW-SNT', 'korean_name': '스테이터스네트워크토큰', 'english_name': 'Status Network Token'}, {'market': 'KRW-WAVES', 'korean_name': '웨이브', 'english_name': 'Waves'}, {'market': 'KRW-XEM', 'korean_name': '넴', 'english_name': 'NEM'}, {'market': 'KRW-QTUM', 'korean_name': '퀀텀', 'english_name': 'Qtum'}, {'market': 'KRW-LSK', 'korean_name': '리스크', 'english_name': 'Lisk'}, {'market': 'KRW-STEEM', 'korean_name': '스팀', 'english_name': 'Steem'}, {'market': 'KRW-XLM', 'korean_name': '스텔라루멘', 'english_name': 'Lumen'}, {'market': 'KRW-ARDR', 'korean_name': '아더', 'english_name': 'Ardor'}, {'market': 'KRW-ARK', 'korean_name': '아크', 'english_name': 'Ark'}, {'market': 'KRW-STORJ', 'korean_name': '스토리지', 'english_name': 'Storj'}, {'market': 'KRW-GRS', 'korean_name': '그로스톨코인', 'english_name': 'Groestlcoin'}, {'market': 'KRW-REP', 'korean_name': '어거', 'english_name': 'Augur'}, {'market': 'KRW-ADA', 'korean_name': '에이다', 'english_name': 'Ada'}, {'market': 'KRW-SBD', 'korean_name': '스팀달러', 'english_name': 'SteemDollars'}, {'market': 'KRW-POWR', 'korean_name': '파워렛저', 'english_name': 'Power ledger'}, {'market': 'KRW-BTG', 'korean_name': '비트코인골드', 'english_name': 'Bitcoin Gold'}, {'market': 'KRW-ICX', 'korean_name': '아이콘', 'english_name': 'Icon'}, {'market': 'KRW-EOS', 'korean_name': '이오스', 'english_name': 'EOS'}, {'market': 'KRW-TRX', 'korean_name': '트론', 'english_name': 'TRON'}, {'market': 'KRW-SC', 'korean_name': '시아코인', 'english_name': 'Siacoin'}, {'market': 'KRW-ONT', 'korean_name': '온톨로지', 'english_name': 'Ontology'}, {'market': 'KRW-ZIL', 'korean_name': '질리카', 'english_name': 'Zilliqa'}, {'market': 'KRW-POLY', 'korean_name': '폴리매쓰', 'english_name': 'Polymath'}, {'market': 'KRW-ZRX', 'korean_name': '제로엑스', 'english_name': '0x Protocol'}, {'market': 'KRW-LOOM', 'korean_name': '룸네트워크', 'english_name': 'Loom Network'}, {'market': 'KRW-BCH', 'korean_name': '비트코인캐시', 'english_name': 'Bitcoin Cash'}, {'market': 'KRW-BAT', 'korean_name': '베이직어텐션토큰', 'english_name': 'Basic Attention Token'}, {'market': 'KRW-IOST', 'korean_name': '아이오에스티', 'english_name': 'IOST'}, {'market': 'KRW-RFR', 'korean_name': '리퍼리움', 'english_name': 'Refereum'}, {'market': 'KRW-CVC', 'korean_name': '시빅', 'english_name': 'Civic'}, {'market': 'KRW-IQ', 'korean_name': '에브리피디아', 'english_name': 'Everipedia'}, {'market': 'KRW-IOTA', 'korean_name': '아이오타', 'english_name': 'IOTA'}, {'market': 'KRW-MFT', 'korean_name': '메인프레임', 'english_name': 'Mainframe'}, {'market': 'KRW-ONG', 'korean_name': '온톨로지가스', 'english_name': 'ONG'}, {'market': 'KRW-GAS', 'korean_name': '가스', 'english_name': 'GAS'}, {'market': 'KRW-UPP', 'korean_name': '센티넬프로토콜', 'english_name': 'Sentinel Protocol'}, {'market': 'KRW-ELF', 'korean_name': '엘프', 'english_name': 'aelf'}, {'market': 'KRW-KNC', 'korean_name': '카이버네트워크', 'english_name': 'Kyber Network'}, {'market': 'KRW-BSV', 'korean_name': '비트코인에스브이', 'english_name': 'Bitcoin SV'}, {'market': 'KRW-THETA', 'korean_name': '쎄타토큰', 'english_name': 'Theta Token'}, {'market': 'KRW-QKC', 'korean_name': '쿼크체인', 'english_name': 'QuarkChain'}, {'market': 'KRW-BTT', 'korean_name': '비트토렌트', 'english_name': 'BitTorrent'}, {'market': 'KRW-MOC', 'korean_name': '모스코인', 'english_name': 'Moss Coin'}, {'market': 'KRW-ENJ', 'korean_name': '엔진코인', 'english_name': 'Enjin'}, {'market': 'KRW-TFUEL', 'korean_name': '쎄타퓨엘', 'english_name': 'Theta Fuel'}, {'market': 'KRW-MANA', 'korean_name': '디센트럴랜드', 'english_name': 'Decentraland'}, {'market': 'KRW-ANKR', 'korean_name': '앵커', 'english_name': 'Ankr'}, {'market': 'KRW-AERGO', 'korean_name': '아르고', 'english_name': 'Aergo'}, {'market': 'KRW-ATOM', 'korean_name': '코스모스', 'english_name': 'Cosmos'}, {'market': 'KRW-TT', 'korean_name': '썬더코어', 'english_name': 'ThunderCore'}, {'market': 'KRW-CRE', 'korean_name': '캐리프로토콜', 'english_name': 'Carry Protocol'}, {'market': 'KRW-MBL', 'korean_name': '무비블록', 'english_name': 'MovieBloc'}, {'market': 'KRW-WAXP', 'korean_name': '왁스', 'english_name': 'WAX'}, {'market': 'KRW-HBAR', 'korean_name': '헤데라', 'english_name': 'Hedera'}, {'market': 'KRW-MED', 'korean_name': '메디블록', 'english_name': 'MediBloc'}, {'market': 'KRW-MLK', 'korean_name': '밀크', 'english_name': 'MiL.k'}, {'market': 'KRW-STPT', 'korean_name': '에스티피', 'english_name': 'Standard Tokenization Protocol'}, {'market': 'KRW-ORBS', 'korean_name': '오브스', 'english_name': 'Orbs'}, {'market': 'KRW-VET', 'korean_name': '비체인', 'english_name': 'VeChain'}, {'market': 'KRW-CHZ', 'korean_name': '칠리즈', 'english_name': 'Chiliz'}, {'market': 'KRW-STMX', 'korean_name': '스톰엑스', 'english_name': 'StormX'}, {'market': 'KRW-DKA', 'korean_name': '디카르고', 'english_name': 'dKargo'}, {'market': 'KRW-HIVE', 'korean_name': '하이브', 'english_name': 'Hive'}, {'market': 'KRW-KAVA', 'korean_name': '카바', 'english_name': 'Kava'}, {'market': 'KRW-AHT', 'korean_name': '아하토큰', 'english_name': 'AhaToken'}, {'market': 'KRW-LINK', 'korean_name': '체인링크', 'english_name': 'Chainlink'}, {'market': 'KRW-XTZ', 'korean_name': '테조스', 'english_name': 'Tezos'}, {'market': 'KRW-BORA', 'korean_name': '보라', 'english_name': 'BORA'}, {'market': 'KRW-JST', 'korean_name': '저스트', 'english_name': 'JUST'}, {'market': 'KRW-CRO', 'korean_name': '크로노스', 'english_name': 'Cronos'}, {'market': 'KRW-TON', 'korean_name': '톤', 'english_name': 'TON'}, {'market': 'KRW-SXP', 'korean_name': '스와이프', 'english_name': 'Swipe'}, {'market': 'KRW-HUNT', 'korean_name': '헌트', 'english_name': 'HUNT'}, {'market': 'KRW-PLA', 'korean_name': '플레이댑', 'english_name': 'PlayDapp'}, {'market': 'KRW-DOT', 'korean_name': '폴카닷', 'english_name': 'Polkadot'}, {'market': 'KRW-SRM', 'korean_name': '세럼', 'english_name': 'Serum'}, {'market': 'KRW-MVL', 'korean_name': '엠블', 'english_name': 'MVL'}, {'market': 'KRW-STRAX', 'korean_name': '스트라티스', 'english_name': 'Stratis'}, {'market': 'KRW-AQT', 'korean_name': '알파쿼크', 'english_name': 'Alpha Quark Token'}, {'market': 'KRW-GLM', 'korean_name': '골렘', 'english_name': 'Golem'}, {'market': 'KRW-SSX', 'korean_name': '썸씽', 'english_name': 'SOMESING'}, {'market': 'KRW-META', 'korean_name': '메타디움', 'english_name': 'Metadium'}, {'market': 'KRW-FCT2', 'korean_name': '피르마체인', 'english_name': 'FirmaChain'}, {'market': 'KRW-CBK', 'korean_name': '코박토큰', 'english_name': 'Cobak Token'}, {'market': 'KRW-SAND', 'korean_name': '샌드박스', 'english_name': 'The Sandbox'}, {'market': 'KRW-HUM', 'korean_name': '휴먼스케이프', 'english_name': 'Humanscape'}, {'market': 'KRW-DOGE', 'korean_name': '도지코인', 'english_name': 'Dogecoin'}, {'market': 'KRW-STRK', 'korean_name': '스트라이크', 'english_name': 'Strike'}, {'market': 'KRW-PUNDIX', 'korean_name': '펀디엑스', 'english_name': 'Pundi X'}, {'market': 'KRW-FLOW', 'korean_name': '플로우', 'english_name': 'Flow'}, {'market': 'KRW-DAWN', 'korean_name': '던프로토콜', 'english_name': 'Dawn Protocol'}, {'market': 'KRW-AXS', 'korean_name': '엑시인피니티', 'english_name': 'Axie Infinity'}, {'market': 'KRW-STX', 'korean_name': '스택스', 'english_name': 'Stacks'}, {'market': 'KRW-XEC', 'korean_name': '이캐시', 'english_name': 'eCash'}, {'market': 'KRW-SOL', 'korean_name': '솔라나', 'english_name': 'Solana'}, {'market': 'KRW-MATIC', 'korean_name': '폴리곤', 'english_name': 'Polygon'}, {'market': 'KRW-NU', 'korean_name': '누사이퍼', 'english_name': 'Nucypher'}, {'market': 'KRW-AAVE', 'korean_name': '에이브', 'english_name': 'Aave'}, {'market': 'KRW-1INCH', 'korean_name': '1인치네트워크', 'english_name': '1inch Network'}, {'market': 'KRW-ALGO', 'korean_name': '알고랜드', 'english_name': 'Algorand'}, {'market': 'KRW-NEAR', 'korean_name': '니어프로토콜', 'english_name': 'NEAR Protocol'}, {'market': 'KRW-WEMIX', 'korean_name': '위믹스', 'english_name': 'Wemix'}, {'market': 'KRW-AVAX', 'korean_name': '아발란체', 'english_name': 'Avalanche'}, {'market': 'KRW-T', 'korean_name': '쓰레스홀드', 'english_name': 'Threshold'}, {'market': 'KRW-CELO', 'korean_name': '셀로', 'english_name': 'Celo'}],{'KRW-BTC': 50474000.0, 'KRW-ETH': 3799000.0, 'KRW-NEO': 25250.0, 'KRW-MTL': 1985.0, 'KRW-LTC': 131000.0, 'KRW-XRP': 892.0, 'KRW-ETC': 48250.0, 'KRW-OMG': 5435.0, 'KRW-SNT': 76.2, 'KRW-WAVES': 28970.0, 'KRW-XEM': 122.0, 'KRW-QTUM': 7945.0, 'KRW-LSK': 2550.0, 'KRW-STEEM': 400.0, 'KRW-XLM': 240.0, 'KRW-ARDR': 255.0, 'KRW-ARK': 1215.0, 'KRW-STORJ': 1260.0, 'KRW-GRS': 781.0, 'KRW-REP': 16650.0, 'KRW-ADA': 1185.0, 'KRW-SBD': 5160.0, 'KRW-POWR': 618.0, 'KRW-BTG': 43880.0, 'KRW-ICX': 937.0, 'KRW-EOS': 2785.0, 'KRW-TRX': 74.1, 'KRW-SC': 12.4, 'KRW-ONT': 614.0, 'KRW-ZIL': 139.0, 'KRW-POLY': 483.0, 'KRW-ZRX': 873.0, 'KRW-LOOM': 101.0, 'KRW-BCH': 377000.0, 'KRW-BAT': 881.0, 'KRW-IOST': 34.9, 'KRW-RFR': 15.1, 'KRW-CVC': 337.0, 'KRW-IQ': 14.1, 'KRW-IOTA': 827.0, 'KRW-MFT': 10.2, 'KRW-ONG': 880.0, 'KRW-GAS': 5715.0, 'KRW-UPP': 161.0, 'KRW-ELF': 399.0, 'KRW-KNC': 5400.0, 'KRW-BSV': 101850.0, 'KRW-THETA': 3870.0, 'KRW-QKC': 26.8, 'KRW-BTT': 0.0023, 'KRW-MOC': 223.0, 'KRW-ENJ': 1955.0, 'KRW-TFUEL': 202.0, 'KRW-MANA': 2650.0, 'KRW-ANKR': 87.5, 'KRW-AERGO': 280.0, 'KRW-ATOM': 30690.0, 'KRW-TT': 12.4, 'KRW-CRE': 10.5, 'KRW-MBL': 11.5, 'KRW-WAXP': 341.0, 'KRW-HBAR': 250.0, 'KRW-MED': 52.4, 'KRW-MLK': 1010.0, 'KRW-STPT': 107.0, 'KRW-ORBS': 93.6, 'KRW-VET': 74.7, 'KRW-CHZ': 280.0, 'KRW-STMX': 22.1, 'KRW-DKA': 115.0, 'KRW-HIVE': 1090.0, 'KRW-KAVA': 5295.0, 'KRW-AHT': 13.8, 'KRW-LINK': 17620.0, 'KRW-XTZ': 3800.0, 'KRW-BORA': 1040.0, 'KRW-JST': 92.5, 'KRW-CRO': 514.0, 'KRW-TON': 4795.0, 'KRW-SXP': 1520.0, 'KRW-HUNT': 1000.0, 'KRW-PLA': 1095.0, 'KRW-DOT': 22170.0, 'KRW-SRM': 2895.0, 'KRW-MVL': 12.3, 'KRW-STRAX': 1255.0, 'KRW-AQT': 3315.0, 'KRW-GLM': 510.0, 'KRW-SSX': 58.0, 'KRW-META': 98.4, 'KRW-FCT2': 162.0, 'KRW-CBK': 2710.0, 'KRW-SAND': 3445.0, 'KRW-HUM': 415.0, 'KRW-DOGE': 172.0, 'KRW-STRK': 49860.0, 'KRW-PUNDIX': 986.0, 'KRW-FLOW': 7110.0, 'KRW-DAWN': 2135.0, 'KRW-AXS': 58100.0, 'KRW-STX': 1440.0, 'KRW-XEC': 0.113, 'KRW-SOL': 128100.0, 'KRW-MATIC': 1715.0, 'KRW-NU': 482.0, 'KRW-AAVE': 202700.0, 'KRW-1INCH': 1860.0, 'KRW-ALGO': 916.0, 'KRW-NEAR': 20540.0, 'KRW-WEMIX': 4815.0, 'KRW-AVAX': 95590.0, 'KRW-T': 143.0, 'KRW-CELO': 3990.0}\n"
     ]
    }
   ],
   "source": [
    "print(\"{},{}\".format(a,b))"
   ]
  },
  {
   "cell_type": "code",
   "execution_count": 11,
   "id": "0c6911a6",
   "metadata": {},
   "outputs": [
    {
     "ename": "ValueError",
     "evalue": "dictionary update sequence element #0 has length 3; 2 is required",
     "output_type": "error",
     "traceback": [
      "\u001b[1;31m---------------------------------------------------------------------------\u001b[0m",
      "\u001b[1;31mValueError\u001b[0m                                Traceback (most recent call last)",
      "\u001b[1;32m~\\AppData\\Local\\Temp/ipykernel_8616/4009853948.py\u001b[0m in \u001b[0;36m<module>\u001b[1;34m\u001b[0m\n\u001b[1;32m----> 1\u001b[1;33m \u001b[0mSQLdata\u001b[0m \u001b[1;33m=\u001b[0m \u001b[0mdict\u001b[0m\u001b[1;33m(\u001b[0m\u001b[0ma\u001b[0m\u001b[1;33m,\u001b[0m \u001b[1;33m**\u001b[0m\u001b[0mb\u001b[0m\u001b[1;33m)\u001b[0m\u001b[1;33m\u001b[0m\u001b[1;33m\u001b[0m\u001b[0m\n\u001b[0m\u001b[0;32m      2\u001b[0m \u001b[0mprint\u001b[0m\u001b[1;33m(\u001b[0m\u001b[0mSQLdata\u001b[0m\u001b[1;33m)\u001b[0m\u001b[1;33m\u001b[0m\u001b[1;33m\u001b[0m\u001b[0m\n",
      "\u001b[1;31mValueError\u001b[0m: dictionary update sequence element #0 has length 3; 2 is required"
     ]
    }
   ],
   "source": [
    "SQLdata = dict(a, **b)\n",
    "print(SQLdata)"
   ]
  },
  {
   "cell_type": "code",
   "execution_count": 12,
   "id": "762006bd",
   "metadata": {},
   "outputs": [
    {
     "ename": "AttributeError",
     "evalue": "'dict' object has no attribute 'split'",
     "output_type": "error",
     "traceback": [
      "\u001b[1;31m---------------------------------------------------------------------------\u001b[0m",
      "\u001b[1;31mAttributeError\u001b[0m                            Traceback (most recent call last)",
      "\u001b[1;32m~\\AppData\\Local\\Temp/ipykernel_8616/1530964966.py\u001b[0m in \u001b[0;36m<module>\u001b[1;34m\u001b[0m\n\u001b[1;32m----> 1\u001b[1;33m \u001b[0mb1\u001b[0m\u001b[1;33m=\u001b[0m\u001b[0mb\u001b[0m\u001b[1;33m.\u001b[0m\u001b[0msplit\u001b[0m\u001b[1;33m(\u001b[0m\u001b[0msep\u001b[0m\u001b[1;33m=\u001b[0m\u001b[1;34m\",\"\u001b[0m\u001b[1;33m)\u001b[0m\u001b[1;33m\u001b[0m\u001b[1;33m\u001b[0m\u001b[0m\n\u001b[0m",
      "\u001b[1;31mAttributeError\u001b[0m: 'dict' object has no attribute 'split'"
     ]
    }
   ],
   "source": [
    "b1=b.split(sep=\",\")"
   ]
  },
  {
   "cell_type": "code",
   "execution_count": null,
   "id": "d773866b",
   "metadata": {},
   "outputs": [],
   "source": []
  }
 ],
 "metadata": {
  "kernelspec": {
   "display_name": "Python [conda env:data-env] *",
   "language": "python",
   "name": "conda-env-data-env-py"
  },
  "language_info": {
   "codemirror_mode": {
    "name": "ipython",
    "version": 3
   },
   "file_extension": ".py",
   "mimetype": "text/x-python",
   "name": "python",
   "nbconvert_exporter": "python",
   "pygments_lexer": "ipython3",
   "version": "3.8.12"
  },
  "toc": {
   "base_numbering": 1,
   "nav_menu": {},
   "number_sections": true,
   "sideBar": true,
   "skip_h1_title": false,
   "title_cell": "Table of Contents",
   "title_sidebar": "Contents",
   "toc_cell": false,
   "toc_position": {},
   "toc_section_display": true,
   "toc_window_display": false
  }
 },
 "nbformat": 4,
 "nbformat_minor": 5
}
