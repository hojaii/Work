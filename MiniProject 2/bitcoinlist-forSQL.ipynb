{
 "cells": [
  {
   "cell_type": "code",
   "execution_count": 1,
   "id": "3c412b2f",
   "metadata": {
    "scrolled": true
   },
   "outputs": [
    {
     "name": "stdout",
     "output_type": "stream",
     "text": [
      "Requirement already satisfied: pyupbit in c:\\users\\bit\\anaconda3\\envs\\data-env\\lib\\site-packages (0.2.26)\n",
      "Requirement already satisfied: pyjwt>=2.0.0 in c:\\users\\bit\\anaconda3\\envs\\data-env\\lib\\site-packages (from pyupbit) (2.3.0)\n",
      "Requirement already satisfied: pandas in c:\\users\\bit\\anaconda3\\envs\\data-env\\lib\\site-packages (from pyupbit) (1.3.5)\n",
      "Requirement already satisfied: requests in c:\\users\\bit\\anaconda3\\envs\\data-env\\lib\\site-packages (from pyupbit) (2.27.1)\n",
      "Requirement already satisfied: websockets==9.1 in c:\\users\\bit\\anaconda3\\envs\\data-env\\lib\\site-packages (from pyupbit) (9.1)\n",
      "Requirement already satisfied: python-dateutil>=2.7.3 in c:\\users\\bit\\anaconda3\\envs\\data-env\\lib\\site-packages (from pandas->pyupbit) (2.8.2)\n",
      "Requirement already satisfied: pytz>=2017.3 in c:\\users\\bit\\anaconda3\\envs\\data-env\\lib\\site-packages (from pandas->pyupbit) (2021.3)\n",
      "Requirement already satisfied: numpy>=1.17.3 in c:\\users\\bit\\anaconda3\\envs\\data-env\\lib\\site-packages (from pandas->pyupbit) (1.21.5)\n",
      "Requirement already satisfied: six>=1.5 in c:\\users\\bit\\anaconda3\\envs\\data-env\\lib\\site-packages (from python-dateutil>=2.7.3->pandas->pyupbit) (1.16.0)\n",
      "Requirement already satisfied: certifi>=2017.4.17 in c:\\users\\bit\\anaconda3\\envs\\data-env\\lib\\site-packages (from requests->pyupbit) (2021.10.8)\n",
      "Requirement already satisfied: urllib3<1.27,>=1.21.1 in c:\\users\\bit\\anaconda3\\envs\\data-env\\lib\\site-packages (from requests->pyupbit) (1.26.8)\n",
      "Requirement already satisfied: charset-normalizer~=2.0.0 in c:\\users\\bit\\anaconda3\\envs\\data-env\\lib\\site-packages (from requests->pyupbit) (2.0.11)\n",
      "Requirement already satisfied: idna<4,>=2.5 in c:\\users\\bit\\anaconda3\\envs\\data-env\\lib\\site-packages (from requests->pyupbit) (3.3)\n",
      "Note: you may need to restart the kernel to use updated packages.\n"
     ]
    }
   ],
   "source": [
    "pip install pyupbit"
   ]
  },
  {
   "cell_type": "code",
   "execution_count": 2,
   "id": "8b497f73",
   "metadata": {},
   "outputs": [
    {
     "name": "stdout",
     "output_type": "stream",
     "text": [
      "Requirement already satisfied: pandas in c:\\users\\bit\\anaconda3\\envs\\data-env\\lib\\site-packages (1.3.5)Note: you may need to restart the kernel to use updated packages.\n",
      "\n",
      "Requirement already satisfied: numpy>=1.17.3 in c:\\users\\bit\\anaconda3\\envs\\data-env\\lib\\site-packages (from pandas) (1.21.5)\n",
      "Requirement already satisfied: pytz>=2017.3 in c:\\users\\bit\\anaconda3\\envs\\data-env\\lib\\site-packages (from pandas) (2021.3)\n",
      "Requirement already satisfied: python-dateutil>=2.7.3 in c:\\users\\bit\\anaconda3\\envs\\data-env\\lib\\site-packages (from pandas) (2.8.2)\n",
      "Requirement already satisfied: six>=1.5 in c:\\users\\bit\\anaconda3\\envs\\data-env\\lib\\site-packages (from python-dateutil>=2.7.3->pandas) (1.16.0)\n"
     ]
    }
   ],
   "source": [
    "pip install pandas"
   ]
  },
  {
   "cell_type": "code",
   "execution_count": 3,
   "id": "d13192be",
   "metadata": {},
   "outputs": [],
   "source": [
    "import pyupbit as ub"
   ]
  },
  {
   "cell_type": "code",
   "execution_count": 4,
   "id": "044c241e",
   "metadata": {},
   "outputs": [
    {
     "name": "stdout",
     "output_type": "stream",
     "text": [
      "['KRW-BTC', 'KRW-ETH', 'KRW-NEO', 'KRW-MTL', 'KRW-LTC', 'KRW-XRP', 'KRW-ETC', 'KRW-OMG', 'KRW-SNT', 'KRW-WAVES', 'KRW-XEM', 'KRW-QTUM', 'KRW-LSK', 'KRW-STEEM', 'KRW-XLM', 'KRW-ARDR', 'KRW-ARK', 'KRW-STORJ', 'KRW-GRS', 'KRW-REP', 'KRW-ADA', 'KRW-SBD', 'KRW-POWR', 'KRW-BTG', 'KRW-ICX', 'KRW-EOS', 'KRW-TRX', 'KRW-SC', 'KRW-ONT', 'KRW-ZIL', 'KRW-POLY', 'KRW-ZRX', 'KRW-LOOM', 'KRW-BCH', 'KRW-BAT', 'KRW-IOST', 'KRW-RFR', 'KRW-CVC', 'KRW-IQ', 'KRW-IOTA', 'KRW-MFT', 'KRW-ONG', 'KRW-GAS', 'KRW-UPP', 'KRW-ELF', 'KRW-KNC', 'KRW-BSV', 'KRW-THETA', 'KRW-QKC', 'KRW-BTT', 'KRW-MOC', 'KRW-ENJ', 'KRW-TFUEL', 'KRW-MANA', 'KRW-ANKR', 'KRW-AERGO', 'KRW-ATOM', 'KRW-TT', 'KRW-CRE', 'KRW-MBL', 'KRW-WAXP', 'KRW-HBAR', 'KRW-MED', 'KRW-MLK', 'KRW-STPT', 'KRW-ORBS', 'KRW-VET', 'KRW-CHZ', 'KRW-STMX', 'KRW-DKA', 'KRW-HIVE', 'KRW-KAVA', 'KRW-AHT', 'KRW-LINK', 'KRW-XTZ', 'KRW-BORA', 'KRW-JST', 'KRW-CRO', 'KRW-TON', 'KRW-SXP', 'KRW-HUNT', 'KRW-PLA', 'KRW-DOT', 'KRW-SRM', 'KRW-MVL', 'KRW-STRAX', 'KRW-AQT', 'KRW-GLM', 'KRW-SSX', 'KRW-META', 'KRW-FCT2', 'KRW-CBK', 'KRW-SAND', 'KRW-HUM', 'KRW-DOGE', 'KRW-STRK', 'KRW-PUNDIX', 'KRW-FLOW', 'KRW-DAWN', 'KRW-AXS', 'KRW-STX', 'KRW-XEC', 'KRW-SOL', 'KRW-MATIC', 'KRW-NU', 'KRW-AAVE', 'KRW-1INCH', 'KRW-ALGO', 'KRW-NEAR', 'KRW-WEMIX', 'KRW-AVAX', 'KRW-T', 'KRW-CELO']\n"
     ]
    }
   ],
   "source": [
    "KRW_tickers = ub.get_tickers(fiat=\"KRW\")\n",
    "print(KRW_tickers) # 원화로 거래하는 코인들 리스트"
   ]
  },
  {
   "cell_type": "code",
   "execution_count": 5,
   "id": "22bce0e5",
   "metadata": {
    "scrolled": true
   },
   "outputs": [
    {
     "name": "stdout",
     "output_type": "stream",
     "text": [
      "[{'market': 'KRW-BTC', 'korean_name': '비트코인', 'english_name': 'Bitcoin'}, {'market': 'KRW-ETH', 'korean_name': '이더리움', 'english_name': 'Ethereum'}, {'market': 'KRW-NEO', 'korean_name': '네오', 'english_name': 'NEO'}, {'market': 'KRW-MTL', 'korean_name': '메탈', 'english_name': 'Metal'}, {'market': 'KRW-LTC', 'korean_name': '라이트코인', 'english_name': 'Litecoin'}, {'market': 'KRW-XRP', 'korean_name': '리플', 'english_name': 'Ripple'}, {'market': 'KRW-ETC', 'korean_name': '이더리움클래식', 'english_name': 'Ethereum Classic'}, {'market': 'KRW-OMG', 'korean_name': '오미세고', 'english_name': 'OmiseGo'}, {'market': 'KRW-SNT', 'korean_name': '스테이터스네트워크토큰', 'english_name': 'Status Network Token'}, {'market': 'KRW-WAVES', 'korean_name': '웨이브', 'english_name': 'Waves'}, {'market': 'KRW-XEM', 'korean_name': '넴', 'english_name': 'NEM'}, {'market': 'KRW-QTUM', 'korean_name': '퀀텀', 'english_name': 'Qtum'}, {'market': 'KRW-LSK', 'korean_name': '리스크', 'english_name': 'Lisk'}, {'market': 'KRW-STEEM', 'korean_name': '스팀', 'english_name': 'Steem'}, {'market': 'KRW-XLM', 'korean_name': '스텔라루멘', 'english_name': 'Lumen'}, {'market': 'KRW-ARDR', 'korean_name': '아더', 'english_name': 'Ardor'}, {'market': 'KRW-ARK', 'korean_name': '아크', 'english_name': 'Ark'}, {'market': 'KRW-STORJ', 'korean_name': '스토리지', 'english_name': 'Storj'}, {'market': 'KRW-GRS', 'korean_name': '그로스톨코인', 'english_name': 'Groestlcoin'}, {'market': 'KRW-REP', 'korean_name': '어거', 'english_name': 'Augur'}, {'market': 'KRW-ADA', 'korean_name': '에이다', 'english_name': 'Ada'}, {'market': 'KRW-SBD', 'korean_name': '스팀달러', 'english_name': 'SteemDollars'}, {'market': 'KRW-POWR', 'korean_name': '파워렛저', 'english_name': 'Power ledger'}, {'market': 'KRW-BTG', 'korean_name': '비트코인골드', 'english_name': 'Bitcoin Gold'}, {'market': 'KRW-ICX', 'korean_name': '아이콘', 'english_name': 'Icon'}, {'market': 'KRW-EOS', 'korean_name': '이오스', 'english_name': 'EOS'}, {'market': 'KRW-TRX', 'korean_name': '트론', 'english_name': 'TRON'}, {'market': 'KRW-SC', 'korean_name': '시아코인', 'english_name': 'Siacoin'}, {'market': 'KRW-ONT', 'korean_name': '온톨로지', 'english_name': 'Ontology'}, {'market': 'KRW-ZIL', 'korean_name': '질리카', 'english_name': 'Zilliqa'}, {'market': 'KRW-POLY', 'korean_name': '폴리매쓰', 'english_name': 'Polymath'}, {'market': 'KRW-ZRX', 'korean_name': '제로엑스', 'english_name': '0x Protocol'}, {'market': 'KRW-LOOM', 'korean_name': '룸네트워크', 'english_name': 'Loom Network'}, {'market': 'KRW-BCH', 'korean_name': '비트코인캐시', 'english_name': 'Bitcoin Cash'}, {'market': 'KRW-BAT', 'korean_name': '베이직어텐션토큰', 'english_name': 'Basic Attention Token'}, {'market': 'KRW-IOST', 'korean_name': '아이오에스티', 'english_name': 'IOST'}, {'market': 'KRW-RFR', 'korean_name': '리퍼리움', 'english_name': 'Refereum'}, {'market': 'KRW-CVC', 'korean_name': '시빅', 'english_name': 'Civic'}, {'market': 'KRW-IQ', 'korean_name': '에브리피디아', 'english_name': 'Everipedia'}, {'market': 'KRW-IOTA', 'korean_name': '아이오타', 'english_name': 'IOTA'}, {'market': 'KRW-MFT', 'korean_name': '메인프레임', 'english_name': 'Mainframe'}, {'market': 'KRW-ONG', 'korean_name': '온톨로지가스', 'english_name': 'ONG'}, {'market': 'KRW-GAS', 'korean_name': '가스', 'english_name': 'GAS'}, {'market': 'KRW-UPP', 'korean_name': '센티넬프로토콜', 'english_name': 'Sentinel Protocol'}, {'market': 'KRW-ELF', 'korean_name': '엘프', 'english_name': 'aelf'}, {'market': 'KRW-KNC', 'korean_name': '카이버네트워크', 'english_name': 'Kyber Network'}, {'market': 'KRW-BSV', 'korean_name': '비트코인에스브이', 'english_name': 'Bitcoin SV'}, {'market': 'KRW-THETA', 'korean_name': '쎄타토큰', 'english_name': 'Theta Token'}, {'market': 'KRW-QKC', 'korean_name': '쿼크체인', 'english_name': 'QuarkChain'}, {'market': 'KRW-BTT', 'korean_name': '비트토렌트', 'english_name': 'BitTorrent'}, {'market': 'KRW-MOC', 'korean_name': '모스코인', 'english_name': 'Moss Coin'}, {'market': 'KRW-ENJ', 'korean_name': '엔진코인', 'english_name': 'Enjin'}, {'market': 'KRW-TFUEL', 'korean_name': '쎄타퓨엘', 'english_name': 'Theta Fuel'}, {'market': 'KRW-MANA', 'korean_name': '디센트럴랜드', 'english_name': 'Decentraland'}, {'market': 'KRW-ANKR', 'korean_name': '앵커', 'english_name': 'Ankr'}, {'market': 'KRW-AERGO', 'korean_name': '아르고', 'english_name': 'Aergo'}, {'market': 'KRW-ATOM', 'korean_name': '코스모스', 'english_name': 'Cosmos'}, {'market': 'KRW-TT', 'korean_name': '썬더코어', 'english_name': 'ThunderCore'}, {'market': 'KRW-CRE', 'korean_name': '캐리프로토콜', 'english_name': 'Carry Protocol'}, {'market': 'KRW-MBL', 'korean_name': '무비블록', 'english_name': 'MovieBloc'}, {'market': 'KRW-WAXP', 'korean_name': '왁스', 'english_name': 'WAX'}, {'market': 'KRW-HBAR', 'korean_name': '헤데라', 'english_name': 'Hedera'}, {'market': 'KRW-MED', 'korean_name': '메디블록', 'english_name': 'MediBloc'}, {'market': 'KRW-MLK', 'korean_name': '밀크', 'english_name': 'MiL.k'}, {'market': 'KRW-STPT', 'korean_name': '에스티피', 'english_name': 'Standard Tokenization Protocol'}, {'market': 'KRW-ORBS', 'korean_name': '오브스', 'english_name': 'Orbs'}, {'market': 'KRW-VET', 'korean_name': '비체인', 'english_name': 'VeChain'}, {'market': 'KRW-CHZ', 'korean_name': '칠리즈', 'english_name': 'Chiliz'}, {'market': 'KRW-STMX', 'korean_name': '스톰엑스', 'english_name': 'StormX'}, {'market': 'KRW-DKA', 'korean_name': '디카르고', 'english_name': 'dKargo'}, {'market': 'KRW-HIVE', 'korean_name': '하이브', 'english_name': 'Hive'}, {'market': 'KRW-KAVA', 'korean_name': '카바', 'english_name': 'Kava'}, {'market': 'KRW-AHT', 'korean_name': '아하토큰', 'english_name': 'AhaToken'}, {'market': 'KRW-LINK', 'korean_name': '체인링크', 'english_name': 'Chainlink'}, {'market': 'KRW-XTZ', 'korean_name': '테조스', 'english_name': 'Tezos'}, {'market': 'KRW-BORA', 'korean_name': '보라', 'english_name': 'BORA'}, {'market': 'KRW-JST', 'korean_name': '저스트', 'english_name': 'JUST'}, {'market': 'KRW-CRO', 'korean_name': '크로노스', 'english_name': 'Cronos'}, {'market': 'KRW-TON', 'korean_name': '톤', 'english_name': 'TON'}, {'market': 'KRW-SXP', 'korean_name': '스와이프', 'english_name': 'Swipe'}, {'market': 'KRW-HUNT', 'korean_name': '헌트', 'english_name': 'HUNT'}, {'market': 'KRW-PLA', 'korean_name': '플레이댑', 'english_name': 'PlayDapp'}, {'market': 'KRW-DOT', 'korean_name': '폴카닷', 'english_name': 'Polkadot'}, {'market': 'KRW-SRM', 'korean_name': '세럼', 'english_name': 'Serum'}, {'market': 'KRW-MVL', 'korean_name': '엠블', 'english_name': 'MVL'}, {'market': 'KRW-STRAX', 'korean_name': '스트라티스', 'english_name': 'Stratis'}, {'market': 'KRW-AQT', 'korean_name': '알파쿼크', 'english_name': 'Alpha Quark Token'}, {'market': 'KRW-GLM', 'korean_name': '골렘', 'english_name': 'Golem'}, {'market': 'KRW-SSX', 'korean_name': '썸씽', 'english_name': 'SOMESING'}, {'market': 'KRW-META', 'korean_name': '메타디움', 'english_name': 'Metadium'}, {'market': 'KRW-FCT2', 'korean_name': '피르마체인', 'english_name': 'FirmaChain'}, {'market': 'KRW-CBK', 'korean_name': '코박토큰', 'english_name': 'Cobak Token'}, {'market': 'KRW-SAND', 'korean_name': '샌드박스', 'english_name': 'The Sandbox'}, {'market': 'KRW-HUM', 'korean_name': '휴먼스케이프', 'english_name': 'Humanscape'}, {'market': 'KRW-DOGE', 'korean_name': '도지코인', 'english_name': 'Dogecoin'}, {'market': 'KRW-STRK', 'korean_name': '스트라이크', 'english_name': 'Strike'}, {'market': 'KRW-PUNDIX', 'korean_name': '펀디엑스', 'english_name': 'Pundi X'}, {'market': 'KRW-FLOW', 'korean_name': '플로우', 'english_name': 'Flow'}, {'market': 'KRW-DAWN', 'korean_name': '던프로토콜', 'english_name': 'Dawn Protocol'}, {'market': 'KRW-AXS', 'korean_name': '엑시인피니티', 'english_name': 'Axie Infinity'}, {'market': 'KRW-STX', 'korean_name': '스택스', 'english_name': 'Stacks'}, {'market': 'KRW-XEC', 'korean_name': '이캐시', 'english_name': 'eCash'}, {'market': 'KRW-SOL', 'korean_name': '솔라나', 'english_name': 'Solana'}, {'market': 'KRW-MATIC', 'korean_name': '폴리곤', 'english_name': 'Polygon'}, {'market': 'KRW-NU', 'korean_name': '누사이퍼', 'english_name': 'Nucypher'}, {'market': 'KRW-AAVE', 'korean_name': '에이브', 'english_name': 'Aave'}, {'market': 'KRW-1INCH', 'korean_name': '1인치네트워크', 'english_name': '1inch Network'}, {'market': 'KRW-ALGO', 'korean_name': '알고랜드', 'english_name': 'Algorand'}, {'market': 'KRW-NEAR', 'korean_name': '니어프로토콜', 'english_name': 'NEAR Protocol'}, {'market': 'KRW-WEMIX', 'korean_name': '위믹스', 'english_name': 'Wemix'}, {'market': 'KRW-AVAX', 'korean_name': '아발란체', 'english_name': 'Avalanche'}, {'market': 'KRW-T', 'korean_name': '쓰레스홀드', 'english_name': 'Threshold'}, {'market': 'KRW-CELO', 'korean_name': '셀로', 'english_name': 'Celo'}]\n"
     ]
    }
   ],
   "source": [
    "tickers = ub.get_tickers(fiat='KRW', verbose=True)\n",
    "print(tickers) # 코인들 리스트와 명칭, SQL에 저장되어야하는 데이터"
   ]
  },
  {
   "cell_type": "code",
   "execution_count": 6,
   "id": "a91649a0",
   "metadata": {},
   "outputs": [],
   "source": [
    "# print(ub.get_current_price(KRW_tickers)) # 원화로 거래하는 코인들의 현재가격"
   ]
  },
  {
   "cell_type": "code",
   "execution_count": 7,
   "id": "7d29be97",
   "metadata": {},
   "outputs": [],
   "source": [
    "import json\n",
    "import csv\n",
    "import pandas as pd"
   ]
  },
  {
   "cell_type": "code",
   "execution_count": 8,
   "id": "6d17fa81",
   "metadata": {},
   "outputs": [
    {
     "name": "stdout",
     "output_type": "stream",
     "text": [
      "            CN      KR             EN\n",
      "0      KRW-BTC    비트코인        Bitcoin\n",
      "1      KRW-ETH    이더리움       Ethereum\n",
      "2      KRW-NEO      네오            NEO\n",
      "3      KRW-MTL      메탈          Metal\n",
      "4      KRW-LTC   라이트코인       Litecoin\n",
      "..         ...     ...            ...\n",
      "108   KRW-NEAR  니어프로토콜  NEAR Protocol\n",
      "109  KRW-WEMIX     위믹스          Wemix\n",
      "110   KRW-AVAX    아발란체      Avalanche\n",
      "111      KRW-T   쓰레스홀드      Threshold\n",
      "112   KRW-CELO      셀로           Celo\n",
      "\n",
      "[113 rows x 3 columns]\n"
     ]
    }
   ],
   "source": [
    "cd = pd.DataFrame(tickers)\n",
    "cd.columns = [\"CN\", \"KR\", \"EN\"] # market, korean_name, english_name을 가공시킴\n",
    "print(cd)"
   ]
  },
  {
   "cell_type": "code",
   "execution_count": 9,
   "id": "7afd0d05",
   "metadata": {},
   "outputs": [],
   "source": [
    "cd.to_csv(\"./coin_data.csv\") # 현재위치 폴더에 csv파일로 저장 SQL에서 읽어오면됨"
   ]
  }
 ],
 "metadata": {
  "kernelspec": {
   "display_name": "Python [conda env:data-env] *",
   "language": "python",
   "name": "conda-env-data-env-py"
  },
  "language_info": {
   "codemirror_mode": {
    "name": "ipython",
    "version": 3
   },
   "file_extension": ".py",
   "mimetype": "text/x-python",
   "name": "python",
   "nbconvert_exporter": "python",
   "pygments_lexer": "ipython3",
   "version": "3.8.12"
  },
  "toc": {
   "base_numbering": 1,
   "nav_menu": {},
   "number_sections": true,
   "sideBar": true,
   "skip_h1_title": false,
   "title_cell": "Table of Contents",
   "title_sidebar": "Contents",
   "toc_cell": false,
   "toc_position": {},
   "toc_section_display": true,
   "toc_window_display": false
  }
 },
 "nbformat": 4,
 "nbformat_minor": 5
}
