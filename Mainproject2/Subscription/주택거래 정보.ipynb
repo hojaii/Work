{
 "cells": [
  {
   "cell_type": "code",
   "execution_count": 3,
   "metadata": {},
   "outputs": [
    {
     "name": "stdout",
     "output_type": "stream",
     "text": [
      "Collecting PublicDataReader\n",
      "  Downloading PublicDataReader-2021.11.17-py3-none-any.whl (14 kB)\n",
      "Installing collected packages: PublicDataReader\n",
      "Successfully installed PublicDataReader-2021.11.17\n",
      "Note: you may need to restart the kernel to use updated packages.\n"
     ]
    }
   ],
   "source": [
    "pip install --upgrade PublicDataReader"
   ]
  },
  {
   "cell_type": "code",
   "execution_count": 4,
   "metadata": {},
   "outputs": [
    {
     "name": "stderr",
     "output_type": "stream",
     "text": [
      "C:\\Users\\BIT\\anaconda3\\lib\\site-packages\\requests\\__init__.py:91: RequestsDependencyWarning: urllib3 (1.26.9) or chardet (3.0.4) doesn't match a supported version!\n",
      "  RequestsDependencyWarning)\n"
     ]
    },
    {
     "name": "stdout",
     "output_type": "stream",
     "text": [
      "VdTiCEkl2j40iDEDVeUNhXfOZIHI7Nrgl1MakGpWCCjf%2BKg3ITwiv8s2DGg%2F1Hz%2FpPPB%2FcT3%2B6iE%2FGmV1GTvPw%3D%3D\n",
      "b'<?xml version=\"1.0\" encoding=\"UTF-8\" standalone=\"yes\"?><response><header><resultCode>99</resultCode><resultMsg>SERVICE KEY IS NOT REGISTERED ERROR.</resultMsg></header></response>'\n"
     ]
    },
    {
     "name": "stderr",
     "output_type": "stream",
     "text": [
      "[ERROR] 아파트 매매 조회 서비스 오류 - (99) SERVICE ACCESS DENIED ERROR.\n",
      "[ERROR] 아파트 전월세 조회 서비스 오류 - (99) SERVICE ACCESS DENIED ERROR.\n",
      "[ERROR] 오피스텔 매매 조회 서비스 오류 - (99) SERVICE ACCESS DENIED ERROR.\n",
      "[ERROR] 오피스텔 전월세 조회 서비스 오류 - (99) SERVICE ACCESS DENIED ERROR.\n",
      "[ERROR] 단독다가구 매매 조회 서비스 오류 - (99) SERVICE ACCESS DENIED ERROR.\n",
      "[ERROR] 단독다가구 전월세 조회 서비스 오류 - (99) SERVICE ACCESS DENIED ERROR.\n",
      "[ERROR] 연립다세대 매매 조회 서비스 오류 - (99) SERVICE ACCESS DENIED ERROR.\n",
      "[ERROR] 연립다세대 전월세 조회 서비스 오류 - (99) SERVICE ACCESS DENIED ERROR.\n",
      "[ERROR] 상업업무용 매매 조회 서비스 오류 - (99) SERVICE ACCESS DENIED ERROR.\n",
      "[ERROR] 토지 매매 조회 서비스 오류 - (99) SERVICE ACCESS DENIED ERROR.\n",
      "[ERROR] 분양입주권 매매 조회 서비스 오류 - (99) SERVICE ACCESS DENIED ERROR.\n"
     ]
    }
   ],
   "source": [
    "#주택거래 정보 api \n",
    "\n",
    "import PublicDataReader as pdr\n",
    "from urllib import parse\n",
    "import requests\n",
    "import base64\n",
    "\n",
    "\n",
    "serviceKey = \"VdTiCEkl2j40iDEDVeUNhXfOZIHI7Nrgl1MakGpWCCjf%2BKg3ITwiv8s2DGg%2F1Hz%2FpPPB%2FcT3%2B6iE%2FGmV1GTvPw%3D%3D\"\n",
    "decode = serviceKey.encode().decode()\n",
    "print(decode)\n",
    "\n",
    "url = 'http://openapi.molit.go.kr:8081/OpenAPI_ToolInstallPackage/service/rest/RTMSOBJSvc/getRTMSDataSvcAptTrade'\n",
    "params ={'serviceKey' : serviceKey, 'LAWD_CD' : '11110', 'DEAL_YMD' : '202112' }\n",
    "\n",
    "response = requests.get(url, params=params)\n",
    "print(response.content)\n",
    "ts = pdr.Transaction(decode, debug=True)"
   ]
  }
 ],
 "metadata": {
  "interpreter": {
   "hash": "aa8685e6f535b57092f09b204a9b6b0d87d97c04979dd1b0905895fdf42703aa"
  },
  "kernelspec": {
   "display_name": "Python 3.7.6 ('base')",
   "language": "python",
   "name": "python3"
  },
  "language_info": {
   "codemirror_mode": {
    "name": "ipython",
    "version": 3
   },
   "file_extension": ".py",
   "mimetype": "text/x-python",
   "name": "python",
   "nbconvert_exporter": "python",
   "pygments_lexer": "ipython3",
   "version": "3.7.6"
  },
  "orig_nbformat": 4
 },
 "nbformat": 4,
 "nbformat_minor": 2
}
