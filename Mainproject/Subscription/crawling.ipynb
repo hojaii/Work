{
 "cells": [
  {
   "cell_type": "code",
   "execution_count": 1,
   "metadata": {},
   "outputs": [],
   "source": [
    "from urllib.request import urlopen\n",
    "import time\n",
    "from bs4 import BeautifulSoup\n",
    "from selenium import webdriver\n",
    "from selenium.webdriver.common.keys import Keys\n",
    "from selenium.common.exceptions import NoSuchElementException\n",
    "from selenium.common.exceptions import ElementNotInteractableException"
   ]
  },
  {
   "cell_type": "code",
   "execution_count": 6,
   "metadata": {},
   "outputs": [
    {
     "name": "stderr",
     "output_type": "stream",
     "text": [
      "c:\\Users\\BIT\\anaconda3\\lib\\site-packages\\ipykernel_launcher.py:3: DeprecationWarning: executable_path has been deprecated, please pass in a Service object\n",
      "  This is separate from the ipykernel package so we can avoid doing imports until\n",
      "c:\\Users\\BIT\\anaconda3\\lib\\site-packages\\ipykernel_launcher.py:34: DeprecationWarning: find_element_by_xpath is deprecated. Please use find_element(by=By.XPATH, value=xpath) instead\n",
      "c:\\Users\\BIT\\anaconda3\\lib\\site-packages\\ipykernel_launcher.py:42: DeprecationWarning: find_element_by_xpath is deprecated. Please use find_element(by=By.XPATH, value=xpath) instead\n"
     ]
    },
    {
     "name": "stdout",
     "output_type": "stream",
     "text": [
      "노서치3\n"
     ]
    },
    {
     "name": "stderr",
     "output_type": "stream",
     "text": [
      "c:\\Users\\BIT\\anaconda3\\lib\\site-packages\\ipykernel_launcher.py:48: DeprecationWarning: find_element_by_xpath is deprecated. Please use find_element(by=By.XPATH, value=xpath) instead\n",
      "c:\\Users\\BIT\\anaconda3\\lib\\site-packages\\ipykernel_launcher.py:54: DeprecationWarning: find_element_by_xpath is deprecated. Please use find_element(by=By.XPATH, value=xpath) instead\n",
      "c:\\Users\\BIT\\anaconda3\\lib\\site-packages\\ipykernel_launcher.py:57: DeprecationWarning: find_element_by_xpath is deprecated. Please use find_element(by=By.XPATH, value=xpath) instead\n",
      "c:\\Users\\BIT\\anaconda3\\lib\\site-packages\\ipykernel_launcher.py:61: DeprecationWarning: find_element_by_xpath is deprecated. Please use find_element(by=By.XPATH, value=xpath) instead\n",
      "c:\\Users\\BIT\\anaconda3\\lib\\site-packages\\ipykernel_launcher.py:62: DeprecationWarning: find_element_by_xpath is deprecated. Please use find_element(by=By.XPATH, value=xpath) instead\n",
      "c:\\Users\\BIT\\anaconda3\\lib\\site-packages\\ipykernel_launcher.py:63: DeprecationWarning: find_element_by_xpath is deprecated. Please use find_element(by=By.XPATH, value=xpath) instead\n"
     ]
    },
    {
     "ename": "KeyboardInterrupt",
     "evalue": "",
     "output_type": "error",
     "traceback": [
      "\u001b[1;31m---------------------------------------------------------------------------\u001b[0m",
      "\u001b[1;31mKeyboardInterrupt\u001b[0m                         Traceback (most recent call last)",
      "\u001b[1;32m<ipython-input-6-fe98be4055b4>\u001b[0m in \u001b[0;36m<module>\u001b[1;34m\u001b[0m\n\u001b[0;32m     54\u001b[0m                             \u001b[0mitemcheck\u001b[0m \u001b[1;33m=\u001b[0m \u001b[0mdriver\u001b[0m\u001b[1;33m.\u001b[0m\u001b[0mfind_element_by_xpath\u001b[0m\u001b[1;33m(\u001b[0m\u001b[1;34m'//*[@id=\"calTable\"]/tbody/tr[{}]/td[{}]/a[{}]'\u001b[0m\u001b[1;33m.\u001b[0m\u001b[0mformat\u001b[0m\u001b[1;33m(\u001b[0m\u001b[0ma\u001b[0m\u001b[1;33m,\u001b[0m\u001b[0mb\u001b[0m\u001b[1;33m,\u001b[0m\u001b[0mc\u001b[0m\u001b[1;33m)\u001b[0m\u001b[1;33m)\u001b[0m\u001b[1;33m\u001b[0m\u001b[1;33m\u001b[0m\u001b[0m\n\u001b[0;32m     55\u001b[0m                             \u001b[0mitemcheck\u001b[0m\u001b[1;33m.\u001b[0m\u001b[0mclick\u001b[0m\u001b[1;33m(\u001b[0m\u001b[1;33m)\u001b[0m\u001b[1;33m\u001b[0m\u001b[1;33m\u001b[0m\u001b[0m\n\u001b[1;32m---> 56\u001b[1;33m                             \u001b[0mtime\u001b[0m\u001b[1;33m.\u001b[0m\u001b[0msleep\u001b[0m\u001b[1;33m(\u001b[0m\u001b[1;36m1\u001b[0m\u001b[1;33m)\u001b[0m\u001b[1;33m\u001b[0m\u001b[1;33m\u001b[0m\u001b[0m\n\u001b[0m\u001b[0;32m     57\u001b[0m                             \u001b[0mexit_btn\u001b[0m \u001b[1;33m=\u001b[0m \u001b[0mdriver\u001b[0m\u001b[1;33m.\u001b[0m\u001b[0mfind_element_by_xpath\u001b[0m\u001b[1;33m(\u001b[0m\u001b[1;34m'/html/body/div[4]/div/button'\u001b[0m\u001b[1;33m)\u001b[0m\u001b[1;33m\u001b[0m\u001b[1;33m\u001b[0m\u001b[0m\n\u001b[0;32m     58\u001b[0m                             \u001b[0mdriver\u001b[0m\u001b[1;33m.\u001b[0m\u001b[0mswitch_to\u001b[0m\u001b[1;33m.\u001b[0m\u001b[0mframe\u001b[0m\u001b[1;33m(\u001b[0m\u001b[1;34m\"iframeDialog\"\u001b[0m\u001b[1;33m)\u001b[0m\u001b[1;33m\u001b[0m\u001b[1;33m\u001b[0m\u001b[0m\n",
      "\u001b[1;31mKeyboardInterrupt\u001b[0m: "
     ]
    }
   ],
   "source": [
    "url = \"https://www.applyhome.co.kr/ai/aib/selectSubscrptCalenderView.do\"\n",
    "# 웹드라이버 위치\n",
    "driver = webdriver.Chrome(\"../resource/chromedriver.exe\")\n",
    "driver.maximize_window()\n",
    "driver.get(url)\n",
    "time.sleep(1)\n",
    "# 특별공급 항목만 남기고 모든 항목 제거\n",
    "del1 = driver.find_element_by_xpath('//*[@id=\"subContent\"]/div[2]/div/ul/li[1]/p/button[2]')\n",
    "del1.click()\n",
    "del2 = driver.find_element_by_xpath('//*[@id=\"subContent\"]/div[2]/div/ul/li[1]/p/button[3]')\n",
    "del2.click()\n",
    "del3 = driver.find_element_by_xpath('//*[@id=\"subContent\"]/div[2]/div/ul/li[1]/p/button[4]')\n",
    "del3.click()\n",
    "del4 = driver.find_element_by_xpath('//*[@id=\"subContent\"]/div[2]/div/ul/li[1]/p/button[5]')\n",
    "del4.click()\n",
    "del5 = driver.find_element_by_xpath('//*[@id=\"subContent\"]/div[2]/div/ul/li[2]/p/button[2]')\n",
    "del5.click()\n",
    "del6 = driver.find_element_by_xpath('//*[@id=\"subContent\"]/div[2]/div/ul/li[2]/p/button[3]')\n",
    "del6.click()\n",
    "del7 = driver.find_element_by_xpath('//*[@id=\"subContent\"]/div[2]/div/ul/li[3]/button')\n",
    "del7.click()\n",
    "del8 = driver.find_element_by_xpath('//*[@id=\"subContent\"]/div[2]/div/ul/li[4]/button')\n",
    "del8.click()\n",
    "q1 = \"노서치1\"\n",
    "w1 = \"클릭실패1\"\n",
    "q2= \"노서치2\"\n",
    "w2 = \"클릭실패2\"\n",
    "q3= \"노서치3\"\n",
    "w3 = \"클릭실패3\"\n",
    "# 1 ~ 12월 접근\n",
    "i=1\n",
    "while i <12:\n",
    "    i +=1\n",
    "    month=driver.find_element_by_xpath('//*[@id=\"subContent\"]/div[1]/div[2]/ul/li[{}]/button'.format(i))\n",
    "    driver.execute_script('window.scrollTo(0,0)')\n",
    "    month.click()\n",
    "    time.sleep(1)\n",
    "    \n",
    "    # 1 ~ 5주차 접근\n",
    "    for a in range(1, 5):\n",
    "        try:\n",
    "            weekcheck = driver.find_element_by_xpath('//*[@id=\"calTable\"]/tbody/tr[{}]/td[1]/a[1]'.format(a))\n",
    "            time.sleep(1)\n",
    "            \n",
    "            # 월 ~ 금 접근            \n",
    "            for b in range(1, 5):\n",
    "                try:\n",
    "                    daycheck = driver.find_element_by_xpath('//*[@id=\"calTable\"]/tbody/tr[{}]/td[{}]/a[1]'.format(a,b))\n",
    "                    time.sleep(1)    \n",
    "                      \n",
    "                    # 청약 개수접근(while문이 깔끔하긴한데 편의상 for문 사용함)          \n",
    "                    for c in range(1, 30):\n",
    "                        try:\n",
    "                            itemcheck = driver.find_element_by_xpath('//*[@id=\"calTable\"]/tbody/tr[{}]/td[{}]/a[{}]'.format(a,b,c))\n",
    "                            itemcheck.click()\n",
    "                            time.sleep(1)\n",
    "                            exit_btn = driver.find_element_by_xpath('/html/body/div[4]/div/button')\n",
    "                            driver.switch_to.frame(\"iframeDialog\")\n",
    "                            \n",
    "                            # 필요한 요소 추출(크롤링)\n",
    "                            title = driver.find_element_by_xpath('//*[@id=\"printArea\"]/table[1]/thead/tr/th')\n",
    "                            location = driver.find_element_by_xpath('//*[@id=\"printArea\"]/table[1]/tbody/tr[1]/td[2]')\n",
    "                            scale = driver.find_element_by_xpath('//*[@id=\"printArea\"]/table[1]/tbody/tr[2]/td[2]')\n",
    "                            \n",
    "                            driver.switch_to.default_content()\n",
    "                            exit_btn.click()\n",
    "                            time.sleep(1)\n",
    "                        except NoSuchElementException:\n",
    "                            print(q1)\n",
    "                            pass\n",
    "                        except ElementNotInteractableException:\n",
    "                            print(w1)\n",
    "                            pass\n",
    "                            \n",
    "                except NoSuchElementException:\n",
    "                    print(q2)\n",
    "                    pass\n",
    "                except ElementNotInteractableException:\n",
    "                    print(w2)\n",
    "                    pass\n",
    "                       \n",
    "        except NoSuchElementException:\n",
    "            print(q3)\n",
    "            pass\n",
    "        except ElementNotInteractableException:\n",
    "            print(w3)\n",
    "            pass\n",
    "            \n",
    "    time.sleep(1)"
   ]
  }
 ],
 "metadata": {
  "interpreter": {
   "hash": "22c0a146a1cee6faf26fd5164d80d49122d8015aaa11837efa42cddb86629c7f"
  },
  "kernelspec": {
   "display_name": "Python 3.7.6 ('base')",
   "language": "python",
   "name": "python3"
  },
  "language_info": {
   "codemirror_mode": {
    "name": "ipython",
    "version": 3
   },
   "file_extension": ".py",
   "mimetype": "text/x-python",
   "name": "python",
   "nbconvert_exporter": "python",
   "pygments_lexer": "ipython3",
   "version": "3.7.6"
  },
  "orig_nbformat": 4
 },
 "nbformat": 4,
 "nbformat_minor": 2
}
