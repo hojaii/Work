{
 "cells": [
  {
   "cell_type": "code",
   "execution_count": null,
   "metadata": {},
   "outputs": [],
   "source": [
    "#한국 주택금리 월별 정보 api\n",
    "import FinanceDataReader as fdr\n",
    "from bs4 import BeautifulSoup\n",
    "import requests\n",
    "import os\n",
    "\n",
    "path = './asdf.txt'\n",
    "if os.path.exists(path):\n",
    "    os.remove(path)\n",
    "path_url='http://ecos.bok.or.kr/api/StatisticItemList/FGUCT1BI9W3T51SL6SQX/json/kr/1/12/010Y002/MM/201101/201106/BECBLA0302/'\n",
    "#path_a='MM/201101/201106/BECBLA0302/'\n",
    "\n",
    "xml = requests.get(path_url)\n",
    "\n",
    "with open(path, 'a+',encoding='utf-8') as t:\n",
    "    t.write(xml.text)\n",
    "with open(path,encoding='utf-8') as fp:\n",
    "    soup = BeautifulSoup(fp, 'html.parser')\n",
    "print(soup)\n",
    "for row in soup.findAll('row'):\n",
    "    print(row.end_time.text, row.item_name.text)"
   ]
  }
 ],
 "metadata": {
  "language_info": {
   "name": "python"
  },
  "orig_nbformat": 4
 },
 "nbformat": 4,
 "nbformat_minor": 2
}
